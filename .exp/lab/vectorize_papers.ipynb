{
 "cells": [
  {
   "cell_type": "code",
   "execution_count": 1,
   "metadata": {},
   "outputs": [
    {
     "name": "stderr",
     "output_type": "stream",
     "text": [
      "/home/marco/Desktop/Coding/refBro/env/lib/python3.10/site-packages/tqdm/auto.py:21: TqdmWarning: IProgress not found. Please update jupyter and ipywidgets. See https://ipywidgets.readthedocs.io/en/stable/user_install.html\n",
      "  from .autonotebook import tqdm as notebook_tqdm\n"
     ]
    }
   ],
   "source": [
    "import json\n",
    "import requests\n",
    "import pandas as pd\n",
    "\n",
    "from tqdm import tqdm\n",
    "\n",
    "import chromadb\n",
    "from sentence_transformers import SentenceTransformer"
   ]
  },
  {
   "cell_type": "code",
   "execution_count": 2,
   "metadata": {},
   "outputs": [],
   "source": [
    "# path to a json with papers formatted as [{\"title\": \"...\", \"abstract\": \"...\"}, ... ]\n",
    "pap2vec_path = 'data/recommender_systems.json'\n",
    "device = \"cuda\" # use \"cuda\" if you've got a GPU otherwise put \"cpu\" here"
   ]
  },
  {
   "cell_type": "code",
   "execution_count": 3,
   "metadata": {},
   "outputs": [],
   "source": [
    "model = SentenceTransformer(\"sentence-transformers/allenai-specter\", device=device)"
   ]
  },
  {
   "cell_type": "code",
   "execution_count": 4,
   "metadata": {},
   "outputs": [],
   "source": [
    "with open(pap2vec_path, 'r') as file:\n",
    "    papers_db = json.load(file)\n",
    "\n",
    "papers_db = [paper for paper in papers_db if paper[\"title\"] is not None]"
   ]
  },
  {
   "cell_type": "code",
   "execution_count": 5,
   "metadata": {},
   "outputs": [],
   "source": [
    "sep = model.tokenizer.sep_token\n",
    "# concat title and abstract as done by the authors https://github.com/allenai/specter\n",
    "db_tabs_concat = [d[\"title\"] + sep + d[\"abstract\"] for d in papers_db]"
   ]
  },
  {
   "cell_type": "code",
   "execution_count": 6,
   "metadata": {},
   "outputs": [],
   "source": [
    "embeddings = model.encode(db_tabs_concat)"
   ]
  },
  {
   "cell_type": "code",
   "execution_count": 7,
   "metadata": {},
   "outputs": [
    {
     "name": "stderr",
     "output_type": "stream",
     "text": [
      "2000it [00:25, 77.85it/s]\n"
     ]
    }
   ],
   "source": [
    "chroma_client = chromadb.PersistentClient(path=\"cool_data/recommender_systems\")\n",
    "collection = chroma_client.create_collection(name=\"recommender_systems\")\n",
    "\n",
    "for i, (paper, embedding) in tqdm(enumerate(zip(papers_db, embeddings))):\n",
    "    collection.add(\n",
    "        documents=[paper[\"title\"] + sep + paper[\"abstract\"]],\n",
    "        embeddings=[embedding.tolist()],\n",
    "        metadatas=[{\"title\": paper[\"title\"], \"abstract\": paper[\"abstract\"]}],\n",
    "        ids=[str(i)]\n",
    "    )\n"
   ]
  }
 ],
 "metadata": {
  "kernelspec": {
   "display_name": "env",
   "language": "python",
   "name": "python3"
  },
  "language_info": {
   "codemirror_mode": {
    "name": "ipython",
    "version": 3
   },
   "file_extension": ".py",
   "mimetype": "text/x-python",
   "name": "python",
   "nbconvert_exporter": "python",
   "pygments_lexer": "ipython3",
   "version": "3.13.1"
  }
 },
 "nbformat": 4,
 "nbformat_minor": 2
}
