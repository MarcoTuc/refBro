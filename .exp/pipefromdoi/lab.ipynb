{
 "cells": [
  {
   "cell_type": "code",
   "execution_count": 1,
   "metadata": {},
   "outputs": [],
   "source": [
    "import requests\n",
    "\n",
    "import pandas as pd\n",
    "\n",
    "BASE_OPENALEX = \"https://api.openalex.org\"\n",
    "\n",
    "def get_papers_from_dois(dois_list):\n",
    "    results = []\n",
    "    for doi in dois_list:\n",
    "        results.extend(get_paper_from_doi(doi))\n",
    "    return results\n",
    "\n",
    "def get_paper_from_doi(doi: str) -> list[dict]:\n",
    "    base_doi = \"https://doi.org\"\n",
    "    if doi[:15] != base_doi: doi = f\"{base_doi}/{doi}\"\n",
    "    url = f\"{BASE_OPENALEX}/works/{doi}\"\n",
    "    response = requests.get(url).json()\n",
    "    response[\"abstract\"] = reconstruct_abstract(response[\"abstract_inverted_index\"])\n",
    "    return response\n",
    "\n",
    "def reconstruct_abstract(index: dict) -> str:\n",
    "    if isinstance(index, type(None)): return \"MISSING_ABSTRACT\" # TODO: expand with scraping methods TODO: decide if to return None instead\n",
    "    max_position_sum = sum([len(position)+1 for position in index.values()]) + 500 # for safety \n",
    "    abstract_array = max_position_sum*[None]\n",
    "    for word, positions in index.items():\n",
    "        for position in positions:\n",
    "            abstract_array[position] = word\n",
    "    abstract_array = [i for i in abstract_array if i is not None]\n",
    "    abstract_string = ' '.join(abstract_array)\n",
    "    abstract_string = abstract_string.replace(r'^abstract\\s+', '')\n",
    "    return abstract_string\n"
   ]
  },
  {
   "cell_type": "code",
   "execution_count": 2,
   "metadata": {},
   "outputs": [],
   "source": [
    "dois = [\n",
    "    \"https://doi.org/10.48550/arXiv.2411.19865\",\n",
    "    \"https://doi.org/10.48550/arXiv.2009.13207\",\n",
    "    \"https://doi.org/10.1007/s11047-013-9380-y\"\n",
    "]\n",
    "results = []\n",
    "for doi in dois:\n",
    "    results.append(get_paper_from_doi(doi))\n"
   ]
  },
  {
   "cell_type": "code",
   "execution_count": 3,
   "metadata": {},
   "outputs": [],
   "source": [
    "df = pd.DataFrame(results)"
   ]
  }
 ],
 "metadata": {
  "kernelspec": {
   "display_name": "env",
   "language": "python",
   "name": "python3"
  },
  "language_info": {
   "codemirror_mode": {
    "name": "ipython",
    "version": 3
   },
   "file_extension": ".py",
   "mimetype": "text/x-python",
   "name": "python",
   "nbconvert_exporter": "python",
   "pygments_lexer": "ipython3",
   "version": "3.13.1"
  }
 },
 "nbformat": 4,
 "nbformat_minor": 2
}
