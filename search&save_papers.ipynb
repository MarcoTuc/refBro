{
 "cells": [
  {
   "cell_type": "code",
   "execution_count": 8,
   "metadata": {},
   "outputs": [],
   "source": [
    "import json\n",
    "import requests\n",
    "import pandas as pd\n",
    "\n",
    "import chromadb\n",
    "from chromadb.utils import embedding_functions\n",
    "from sentence_transformers import SentenceTransformer"
   ]
  },
  {
   "cell_type": "code",
   "execution_count": 2,
   "metadata": {},
   "outputs": [],
   "source": [
    "BASE_OPENALEX = \"https://api.openalex.org\""
   ]
  },
  {
   "cell_type": "code",
   "execution_count": 3,
   "metadata": {},
   "outputs": [],
   "source": [
    "def search_papers(query, n_results=2000):\n",
    "    \n",
    "    per_page = 200\n",
    "    url = f\"{BASE_OPENALEX}/works\"\n",
    "    \n",
    "    params = {\n",
    "        'filter': f'abstract.search:{query}',\n",
    "        'per-page': per_page,\n",
    "    }\n",
    "    headers = {\n",
    "        'Accept': 'application/json'\n",
    "    }\n",
    "    \n",
    "    results = []\n",
    "\n",
    "    for page in range(1, (n_results // per_page)+1):\n",
    "        params['page'] = page\n",
    "        response = requests.get(url, params=params, headers=headers)    \n",
    "        data = response.json()\n",
    "        \n",
    "        try: data[\"results\"]\n",
    "        except KeyError: \n",
    "            raise KeyError(\"not enough results to display\")\n",
    "        \n",
    "        for work in data['results']:\n",
    "            paper = {\n",
    "                'title': work.get('title'),\n",
    "                'abstract': reconstruct_abstract(work.get('abstract_inverted_index')),\n",
    "                # 'doi': work.get('doi'),\n",
    "                # 'publication_year': work.get('publication_year'),\n",
    "                # 'citation_count': work.get('cited_by_count')\n",
    "            }\n",
    "            results.append(paper)\n",
    "                \n",
    "    return results\n",
    "\n",
    "\n",
    "def reconstruct_abstract(index: dict) -> str:\n",
    "    max_position_max = max([positions for positions in index.values()])[0] + 1\n",
    "    max_position_sum = sum([len(position) for position in index.values()]) + 1\n",
    "    abstract_array = (max(max_position_max, max_position_sum)+20)*[None]\n",
    "    for word, positions in index.items():\n",
    "        for position in positions:\n",
    "            try: abstract_array[position] = word\n",
    "            except IndexError: \n",
    "                print(f\"len_max: {max_position_max} | pos: {position}\")\n",
    "                print(f\"len_sum: {max_position_sum} | pos: {position}\")\n",
    "    abstract_array = [i for i in abstract_array if i is not None]\n",
    "    abstract_string = ' '.join(abstract_array)\n",
    "    abstract_string = abstract_string.replace('^abstract\\s+', '')\n",
    "    \n",
    "    return abstract_string"
   ]
  },
  {
   "cell_type": "code",
   "execution_count": 4,
   "metadata": {},
   "outputs": [],
   "source": [
    "query = \"dynamical systems\"\n",
    "results = search_papers(query, n_results=8000)"
   ]
  },
  {
   "cell_type": "code",
   "execution_count": 13,
   "metadata": {},
   "outputs": [],
   "source": [
    "with open('data/dynamical_systems.json', 'w') as f:\n",
    "    json.dump(results, f, indent=2)\n"
   ]
  }
 ],
 "metadata": {
  "kernelspec": {
   "display_name": "env",
   "language": "python",
   "name": "python3"
  },
  "language_info": {
   "codemirror_mode": {
    "name": "ipython",
    "version": 3
   },
   "file_extension": ".py",
   "mimetype": "text/x-python",
   "name": "python",
   "nbconvert_exporter": "python",
   "pygments_lexer": "ipython3",
   "version": "3.10.13"
  }
 },
 "nbformat": 4,
 "nbformat_minor": 2
}
