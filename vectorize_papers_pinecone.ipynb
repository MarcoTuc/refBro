{
 "cells": [
  {
   "cell_type": "code",
   "execution_count": 1,
   "metadata": {},
   "outputs": [
    {
     "name": "stderr",
     "output_type": "stream",
     "text": [
      "/home/marco/Desktop/Coding/refBro/env/lib/python3.13/site-packages/tqdm/auto.py:21: TqdmWarning: IProgress not found. Please update jupyter and ipywidgets. See https://ipywidgets.readthedocs.io/en/stable/user_install.html\n",
      "  from .autonotebook import tqdm as notebook_tqdm\n"
     ]
    }
   ],
   "source": [
    "import json\n",
    "import yaml\n",
    "import requests\n",
    "import pandas as pd\n",
    "from itertools import batched\n",
    "import os\n",
    "\n",
    "from tqdm import tqdm\n",
    "\n",
    "from sentence_transformers import SentenceTransformer\n",
    "\n",
    "from pinecone import Pinecone"
   ]
  },
  {
   "cell_type": "code",
   "execution_count": 2,
   "metadata": {},
   "outputs": [],
   "source": [
    "# read pinecone config\n",
    "with open('pinecone.yml', 'r') as f:\n",
    "    pinecone_config = yaml.safe_load(f)"
   ]
  },
  {
   "cell_type": "code",
   "execution_count": 3,
   "metadata": {},
   "outputs": [],
   "source": [
    "# path to a json with papers formatted as [{\"title\": \"...\", \"abstract\": \"...\"}, ... ]\n",
    "pap2vec_path = 'data/recommender_systems.json'\n",
    "device = \"cuda\" # use \"cuda\" if you've got a GPU otherwise put \"cpu\" here"
   ]
  },
  {
   "cell_type": "code",
   "execution_count": 4,
   "metadata": {},
   "outputs": [],
   "source": [
    "model = SentenceTransformer(\"sentence-transformers/allenai-specter\", device=device)"
   ]
  },
  {
   "cell_type": "code",
   "execution_count": 5,
   "metadata": {},
   "outputs": [],
   "source": [
    "with open(pap2vec_path, 'r') as file:\n",
    "    papers_db = json.load(file)\n",
    "\n",
    "papers_db = [paper for paper in papers_db if paper[\"title\"] is not None]"
   ]
  },
  {
   "cell_type": "code",
   "execution_count": 6,
   "metadata": {},
   "outputs": [],
   "source": [
    "sep = model.tokenizer.sep_token\n",
    "embeddings = []\n",
    "\n",
    "for i, paper in enumerate(papers_db):\n",
    "    # concat title and abstract as done by the authors https://github.com/allenai/specter\n",
    "    concat = paper[\"title\"] + sep + paper[\"abstract\"]\n",
    "    embedding = model.encode(concat).tolist()\n",
    "    embeddings.append({\n",
    "        \"id\": f\"id-{i}\",\n",
    "        \"values\": embedding,\n",
    "        \"metadata\": {\n",
    "            \"title\": paper[\"title\"],\n",
    "            \"abstract\": paper[\"abstract\"]\n",
    "        }\n",
    "    })"
   ]
  },
  {
   "cell_type": "code",
   "execution_count": 7,
   "metadata": {},
   "outputs": [
    {
     "name": "stderr",
     "output_type": "stream",
     "text": [
      "20it [04:07, 12.39s/it]\n"
     ]
    }
   ],
   "source": [
    "pc = Pinecone(api_key=os.getenv(\"PINECONEKEY\"))\n",
    "index = pc.Index(host=pinecone_config[\"HOST\"])\n",
    "\n",
    "upload_count = len(embeddings)\n",
    "batch_upload = 100\n",
    "\n",
    "for batch in tqdm(batched(embeddings, batch_upload)):\n",
    "    index._upsert_batch(batch, namespace=\"general_trial\", _check_type=True)"
   ]
  }
 ],
 "metadata": {
  "kernelspec": {
   "display_name": "env",
   "language": "python",
   "name": "python3"
  },
  "language_info": {
   "codemirror_mode": {
    "name": "ipython",
    "version": 3
   },
   "file_extension": ".py",
   "mimetype": "text/x-python",
   "name": "python",
   "nbconvert_exporter": "python",
   "pygments_lexer": "ipython3",
   "version": "3.13.1"
  }
 },
 "nbformat": 4,
 "nbformat_minor": 2
}
