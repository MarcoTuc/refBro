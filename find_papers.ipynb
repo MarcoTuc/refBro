{
 "cells": [
  {
   "cell_type": "code",
   "execution_count": 75,
   "metadata": {},
   "outputs": [],
   "source": [
    "import json\n",
    "import requests\n",
    "import pandas as pd\n",
    "\n",
    "from tqdm import tqdm\n",
    "\n",
    "from main import embed_papers\n",
    "\n",
    "import torch\n",
    "import numpy as np\n",
    "\n",
    "import chromadb\n",
    "from sentence_transformers import SentenceTransformer"
   ]
  },
  {
   "cell_type": "code",
   "execution_count": 34,
   "metadata": {},
   "outputs": [],
   "source": [
    "model = SentenceTransformer(\"sentence-transformers/allenai-specter\")\n",
    "chroma_client = chromadb.PersistentClient(path=\"vector_data/dynamical_systems\")\n",
    "collection = chroma_client.get_collection(\"dynamical_systems\")"
   ]
  },
  {
   "cell_type": "code",
   "execution_count": 35,
   "metadata": {},
   "outputs": [],
   "source": [
    "library = json.load(open(\"data/library.json\"))\n",
    "embedded_library = embed_papers(model, library)"
   ]
  },
  {
   "cell_type": "code",
   "execution_count": 76,
   "metadata": {},
   "outputs": [],
   "source": [
    "embedded_library_max_pool = np.max(np.array(embedded_library), axis=0)"
   ]
  },
  {
   "cell_type": "code",
   "execution_count": 77,
   "metadata": {},
   "outputs": [],
   "source": [
    "# placeholder for querying the vectordb\n",
    "results = collection.query(\n",
    "    query_embeddings=embedded_library_max_pool,\n",
    "    n_results=21\n",
    ")"
   ]
  },
  {
   "cell_type": "code",
   "execution_count": 81,
   "metadata": {},
   "outputs": [
    {
     "data": {
      "text/plain": [
       "[[{'abstract': 'There is an explosion of interest in dynamical systems in the mathematical community as well as in many areas of science. The results have been truly exciting: systems which once seemed completely intractable from an analytic point of view can now be understood in a geometric or qualitative sense rather easily. Scientists and engineers realize the power and the beauty of the geometric and qualitative techniques. These techniques apply to a number of important nonlinear problems ranging from physics and chemistry to ecology and economics. Computer graphics have allowed us to view the dynamical behavior geometrically. The appearance of incredibly beautiful and intricate objects such as the Mandelbrot set, the Julia set, and other fractals have really piqued interest in the field. This is text is aimed primarily at advanced undergraduate and beginning graduate students.&nbsp; Throughout, the author emphasizes the mathematical aspects of the theory of discrete dynamical systems, not the many and diverse applications of this theory. The field of dynamical systems and especially the study of chaotic systems has been hailed as one of the important breakthroughs in science in the past century and its importance continues to expand. There is no question that the field is becoming more and more important in a variety of scientific disciplines. New to this edition: •Greatly expanded coverage complex dynamics now in Chapter 2•The third chapter is now devoted to higher dimensional dynamical systems.•Chapters 2 and 3 are independent of one another.•New exercises have been added throughout.',\n",
       "   'title': 'An Introduction to Chaotic Dynamical Systems'},\n",
       "  {'abstract': 'This tutorial presents an in-depth introduction to chaos in dynamical systems, and presents several practical techniques for recognizing and classifying chaotic behavior. These techniques include the poincaré map, Lyapunov exponents, capacity, information dimension, correlation dimension, Lyapunov dimension, and the reconstruction of attractors from a single time series.',\n",
       "   'title': 'Chaos: A tutorial for engineers'},\n",
       "  {'abstract': 'This chapter discusses the general concepts of chaotic and nonchaotic behavior, stability, and genericity for dynamical systems. To understand a dynamical system means to know how its states vary through time — at least to describe their variation, at best to predict it. Mathematical dynamical systems theory had its inception with Newton. Ever since G. D. Birkhoff, dynamical systems theory in the mathematical sense has meant the study of the long run behavior of solutions to differential equations in which one variable is thought of as time. There is an interesting class of dynamical systems which are guaranteed to be nonchaotic, and which can usually be easily recognized. A major challenge to mathematicians is to determine which dynamical systems are chaotic and which are not. Chaotic dynamical systems are sometimes said to have \"strange attractors\" or even \"strange strange attractors\". Such systems abound in models of hydrodynamics, mechanics, and many biological systems.',\n",
       "   'title': 'The Chaos of Dynamical Systems'},\n",
       "  {'abstract': 'Data-driven discovery is revolutionizing the modeling, prediction, and control of complex systems. This textbook brings together machine learning, engineering mathematics, and mathematical physics to integrate modeling and control of dynamical systems with modern methods in data science. It highlights many of the recent advances in scientific computing that enable data-driven methods to be applied to a diverse range of complex systems, such as turbulence, the brain, climate, epidemiology, finance, robotics, and autonomy. Aimed at advanced undergraduate and beginning graduate students in the engineering and physical sciences, the text presents a range of topics and methods from introductory to state of the art.',\n",
       "   'title': 'Data-Driven Science and Engineering: Machine Learning, Dynamical Systems, and Control'},\n",
       "  {'abstract': 'The general context of this book is applied to systems in n-dimensional space. Emphasis is placed on a general approach to control theory, independent of optimization, and demonstrates a novel approach by converting a given dynamical system into a control system, in order to obtain a deeper understanding of its mode of action. Contents of the monograph include a presentation of the basic concepts and results of control theory, the typical and classical behaviour of control systems, techniques for transforming dynamic systems into control systems, and the systematic approach to study control systems in applications, as shown in many examples.',\n",
       "   'title': 'Control theory and its applications'},\n",
       "  {'abstract': 'This book gives a mathematical treatment of the introduction to qualitative differential equations and discrete dynamical systems. The treatment includes theoretical proofs, methods of calculation, and applications. The two parts of the book, continuous time of differential equations and discrete time of dynamical systems, can be covered independently in one semester each or combined together into a year long course. The material on differential equations introduces the qualitative or geometric approach through a treatment of linear systems in any dimensions. There follows chapters where equilibria are the most important feature, where scalar (energy) functions is the principal tool, where periodic orbits appear, and finally chaotic systems of differential equations. The many different approaches are systematically introduced through examples and theorems. The material on discrete dynamical systems starts with maps of one variable and proceeds to systems in higher dimensions. The treatment starts with examples where the periodic points can be found explicitly and then introduces symbolic dynamics to analyze where they can be shown to exist but not given in explicit form. Chaotic systems are presented both mathematically and more computationally using Lyapunov exponents. With the one-dimensional maps as models, the multidimensional maps cover the same material in higher dimensions. This higher dimensional material is less computational and more conceptual and theoretical. The final chapter on fractals introduces various dimensions which is another computational tool for measuring the complexity of a system. It also treats iterated function systems which give examples of complicated sets. In the second edition of the book, much of the material has been rewritten to clarify the presentation. Also, some new material has been included in both parts of the book. This book can be used as a textbook for an advanced undergraduate course on ordinary differential equations and/or dynamical systems. Prerequisites are standard courses in calculus (single variable and multivariable), linear algebra, and introductory differential equations.',\n",
       "   'title': 'An Introduction to Dynamical Systems: Continuous and Discrete'},\n",
       "  {'abstract': 'A systematic and comprehensive introduction to the study of nonlinear dynamical systems, in both discrete and continuous time, for nonmathematical students and researchers working in applied fields. An understanding of linear systems and the classical theory of stability are essential although basic reviews of the relevant material are provided. Further chapters are devoted to the stability of invariant sets, bifurcation theory, chaotic dynamics and the transition to chaos. In the final two chapters the authors approach the subject from a measure-theoretical point of view and compare results to those given for the geometrical or topological approach of the first eight chapters. Includes about one hundred exercises. A Windows-compatible software programme called DMC, provided free of charge through a website dedicated to the book, allows readers to perform numerical and graphical analysis of dynamical systems. Also available on the website are computer exercises and solutions to selected book exercises. See www.cambridge.org/economics/resources',\n",
       "   'title': 'Nonlinear Dynamics'},\n",
       "  {'abstract': \"A First Course in Chaotic Dynamical Systems: Theory and Experiment is the first book to introduce modern topics in dynamical systems at the undergraduate level. Accessible to readers with only a background in calculus, the book integrates both theory and computer experiments into its coverage of contemporary ideas in dynamics. It is designed as a gradual introduction to the basic mathematical ideas behind such topics as chaos, fractals, Newton's method, symbolic dynamics, the Julia set, and the Mandelbrot set, and includes biographies of some of the leading researchers in the field of dynamical systems. Mathematical and computer experiments are integrated throughout the text to help illustrate the meaning of the theorems presented. Chaotic Dynamical Systems Software, Labs 1-6 is a supplementary labouratory software package, available separately, that allows a more intuitive understanding of the mathematics behind dynamical systems theory. Combined with A First Course in Chaotic Dynamical Systems , it leads to a rich understanding of this emerging field.\",\n",
       "   'title': 'A First Course in Chaotic Dynamical Systems'},\n",
       "  {'abstract': 'A systematic and comprehensive introduction to the study of nonlinear dynamical systems, in both discrete and continuous time, for nonmathematical students and researchers working in applied fields. An understanding of linear systems and the classical theory of stability are essential although basic reviews of the relevant material are provided. Further chapters are devoted to the stability of invariant sets, bifurcation theory, chaotic dynamics and the transition to chaos. In the final two chapters the authors approach the subject from a measure-theoretical point of view and compare results to those given for the geometrical or topological approach of the first eight chapters. Includes about one hundred exercises. A Windows-compatible software programme called DMC, provided free of charge through a website dedicated to the book, allows readers to perform numerical and graphical analysis of dynamical systems. Also available on the website are computer exercises and solutions to selected book exercises. See www.cambridge.org/economics/resources',\n",
       "   'title': 'Nonlinear Dynamics: A Primer'},\n",
       "  {'abstract': \"There has been active interest recently, some of it promted by the paper of Rosenbrock [1], in the structure of linear time-invariant dynamical systems at 'infinite frequencies'. We review some of this work, [2]-[10], noting recent extensions, and suggesting useful directions for future work. Of particular interest are systems that exhibit impulsive responses to initial conditions; these we have termed generalized dynamical systems.\",\n",
       "   'title': 'Generalized dynamical systems'},\n",
       "  {'abstract': 'This essential handbook provides the theoretical and experimental tools necessary to begin researching the nonlinear behavior of mechanical, electrical, optical, and other systems. The book describes several nonlinear systems which are realized by desktop experiments, such as an apparatus showing chaotic string vibrations, an LRC circuit displaying strange scrolling patterns, and a bouncing ball machine illustrating the period doubling route to chaos. Fractal measures, periodic orbit extraction, and symbolic analysis are applied to unravel the chaotic motions of these systems. The simplicity of the examples makes this an excellent book for undergraduate and graduate-level physics and mathematics courses, new courses in dynamical systems, and experimental laboratories.',\n",
       "   'title': 'An experimental approach to nonlinear dynamics and chaos'},\n",
       "  {'abstract': 'Part I Nonlinear Dynamical Systems.- Introduction.- One-dimensional Systems.- Two-Dimensional Systems.- Higher-Dimensional Systems and Chaos.- Discrete Maps and Iterations in Space.- Stochastic Systems.- Part II: Model Systems.- Haken-Kelso-Bunz (HKB) Model.- Self-organization and Synergetics.- Neuronal Models.- Part III: Mathematical Basics.- Mathematical Basics.- The Coupled HKB System.- Numerical Procedures and Computer Simulations.- Solutions.',\n",
       "   'title': 'Nonlinear Dynamics in Complex Systems: Theory and Applications for the Life-, Neuro- and Natural Sciences'},\n",
       "  {'abstract': 'We review the idea of Lyapunov exponents for chaotic systems and discuss their evaluation from observed data alone. These exponents govern the growth or decrease of small perturbations to orbits of a dynamical system. They are critical to the predictability of models made from observations as well as known analytic models. The Lyapunov exponents are invariants of the dynamical system and are connected with the dimension of the system attractor and to the idea of information generation by the system dynamics. Lyapunov exponents are among the many ways we can classify observed nonlinear systems, and their appeal to physicists remains their clear interpretation in terms of system stability and predictability. We discuss the familiar global Lyapunov exponents which govern the evolution of perturbations for long times and local Lyapunov exponents which determine the predictability over a finite number of time steps.',\n",
       "   'title': 'LYAPUNOV EXPONENTS IN CHAOTIC SYSTEMS: THEIR IMPORTANCE AND THEIR EVALUATION USING OBSERVED DATA'},\n",
       "  {'abstract': 'This book commemorates the centenary of the birth of Georges David Birhoff, the father of the theory of Dynamical Systems. It consists of a volume of dedicated papers, reflecting the intellectual revolution of his work. This book is divided into four parts: Fundamental Paradigms — Chaos, Turbulence, Attractors, Bifurcations; Dynamical Systems and Microphysics; Self-Organization and Biological Dynamical Systems; Epistemology and History.',\n",
       "   'title': 'Dynamical Systems — A Renewal of Mechanism'},\n",
       "  {'abstract': 'How might one account for the organization in behavior without attributing it to an internal control structure?The present article develops a theoretical framework called behavioral dynamics that integrates an information-based approach to perception with a dynamical systems approach to action.For a given task, the agent and its environment are treated as a pair of dynamical systems that are coupled mechanically and informationally.Their interactions give rise to the behavioral dynamics, a vector field with attractors that correspond to stable task solutions, repellers that correspond to avoided states, and bifurcations that correspond to behavioral transitions.The framework is used to develop theories of several tasks in which a human agent interacts with the physical environment, including bouncing a ball on a racquet, balancing an object, braking a vehicle, and guiding locomotion.Stable, adaptive behavior emerges from the dynamics of the interaction between a structured environment and an agent with simple control laws, under physical and informational constraints.',\n",
       "   'title': 'The dynamics of perception and action.'},\n",
       "  {'abstract': 'From the Publisher:\\r\\nThis book develops the mathematical connections between nonlinear control, dynamical systems, and time-varying, perturbed systems. The centerpiece of the presentation is the notion of control flow with its global dynamics. This focus leads to surprising new insights into all three areas, as well as applications in engineering and the natural sciences.',\n",
       "   'title': 'The dynamics of control'},\n",
       "  {'abstract': 'Several distinctive aspects make Dynamical Systems unique, including:treating the subject from a mathematical perspective with the proofs of most of the results includedproviding a careful review of background materialsintroducing ideas through examples and at a level accessible to a beginning graduate student<',\n",
       "   'title': 'Dynamical Systems'},\n",
       "  {'abstract': 'This book provides a broad introduction to the subject of dynamical systems, suitable for a one- or two-semester graduate course. In the first chapter, the authors introduce over a dozen examples, and then use these examples throughout the book to motivate and clarify the development of the theory. Topics include topological dynamics, symbolic dynamics, ergodic theory, hyperbolic dynamics, one-dimensional dynamics, complex dynamics, and measure-theoretic entropy. The authors top off the presentation with some beautiful and remarkable applications of dynamical systems to such areas as number theory, data storage, and Internet search engines. This book grew out of lecture notes from the graduate dynamical systems course at the University of Maryland, College Park, and reflects not only the tastes of the authors, but also to some extent the collective opinion of the Dynamics Group at the University of Maryland, which includes experts in virtually every major area of dynamical systems.',\n",
       "   'title': 'Introduction to Dynamical Systems'},\n",
       "  {'abstract': 'Since it impossible to do justice to the whole of non-linear dynamics and chaos in one chapter we shall give a broad-brush overview, but with emphasis on two aspects of the subject not normally given much attention in textbooks on dynamical systems – the emergence of lowdegree-of-freedom dynamical systems as a description on a macroscopic scale of systems with large numbers of elements on a microscopic scale, and the numerical analysis of dynamical systems. These are related, as computational approaches can give much new insight in the field of complex systems. This chapter can be read on two levels – on the one hand we endeavour to give heuristic arguments and physical motivations so that the beginner should be able to get a feel for the subject, but on the other hand we also give a flavour of the rigorous mathematical approach and give references to the mathematical literature.',\n",
       "   'title': 'Non-linear dynamics'},\n",
       "  {'abstract': 'Dynamical systems is an area of intense research activity and one which finds application in many other areas of mathematics. This volume comprises a collection of survey articles that review several different areas of research. Each paper is intended to provide both an overview of a specific area and an introduction to new ideas and techniques. The authors have been encouraged to include a selection of open questions as a spur to further research. Topics covered include global bifurcations in chaotic o.d.e.s, knotted orbits in differential equations, bifurcations with symmetry, renormalization and universality, and one-dimensional dynamics. Articles include comprehensive lists of references to the research literature and consequently the volume will provide an excellent guide to dynamical systems research for graduate students coming to the subject and for research mathematicians.',\n",
       "   'title': 'New Directions in Dynamical Systems'},\n",
       "  {'abstract': 'On how I got started in dynamical systems 1959-1962, S. Smale finding a horseshoe on the beaches of Rio, S. Smale strange attractors and the origin of chaos, Y. Ueda my encounter with chaos, Y. Ueda reflections on the origin of the broken-egg chaotic attractor, Y. Ueda the chaos revolution - a personal view, R. Abraham the butterfly effect, E. Lorenz I. Gumowski and a Toulouse research group in the prehistoric times of chaotic dynamics, C. Mira the turbulence paper of D. Ruelle & F. Takens, F. Takens exploring chaos on an interval, T.Y. Li and J.A. Yorke chaos, hyperchaos and the double-perspective, O.E. Rossler.',\n",
       "   'title': 'The Chaos Avant-Garde'}]]"
      ]
     },
     "execution_count": 81,
     "metadata": {},
     "output_type": "execute_result"
    }
   ],
   "source": [
    "results[\"metadatas\"]"
   ]
  }
 ],
 "metadata": {
  "kernelspec": {
   "display_name": "env",
   "language": "python",
   "name": "python3"
  },
  "language_info": {
   "codemirror_mode": {
    "name": "ipython",
    "version": 3
   },
   "file_extension": ".py",
   "mimetype": "text/x-python",
   "name": "python",
   "nbconvert_exporter": "python",
   "pygments_lexer": "ipython3",
   "version": "3.10.13"
  }
 },
 "nbformat": 4,
 "nbformat_minor": 2
}
