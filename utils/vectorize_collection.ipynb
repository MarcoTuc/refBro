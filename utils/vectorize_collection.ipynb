{
 "cells": [
  {
   "cell_type": "code",
   "execution_count": 1,
   "metadata": {},
   "outputs": [],
   "source": [
    "import os\n",
    "import sys\n",
    "\n",
    "sys.path.append(\"..\")"
   ]
  },
  {
   "cell_type": "code",
   "execution_count": 2,
   "metadata": {},
   "outputs": [
    {
     "name": "stderr",
     "output_type": "stream",
     "text": [
      "/home/marco/Desktop/Coding/Oshima/refBro-main/env/lib/python3.13/site-packages/tqdm/auto.py:21: TqdmWarning: IProgress not found. Please update jupyter and ipywidgets. See https://ipywidgets.readthedocs.io/en/stable/user_install.html\n",
      "  from .autonotebook import tqdm as notebook_tqdm\n"
     ]
    }
   ],
   "source": [
    "from tqdm import tqdm\n",
    "tqdm.pandas()\n",
    "import numpy as np\n",
    "import pandas as pd\n",
    "\n",
    "from sentence_transformers import SentenceTransformer\n",
    "from pinecone import Pinecone\n",
    "from app import app\n",
    "\n",
    "import glob\n"
   ]
  },
  {
   "cell_type": "code",
   "execution_count": 3,
   "metadata": {},
   "outputs": [],
   "source": [
    "#### manually configurable parameters\n",
    "eb_batch_size = 500 # how many papers to embed per batch\n",
    "up_batch_size = eb_batch_size # how many papers to upload per batch"
   ]
  },
  {
   "cell_type": "code",
   "execution_count": 4,
   "metadata": {},
   "outputs": [],
   "source": [
    "def specter_embed(\n",
    "        df: pd.DataFrame,\n",
    "    ):\n",
    "    \"\"\" Get a specter embedding on a dataframe of OpenAlex results \"\"\"\n",
    "    model = SentenceTransformer(app.config[\"SCI_EMB_MODEL\"], device=app.config[\"DEVICE\"])\n",
    "    separation_token = model.tokenizer.sep_token\n",
    "    # data is presumed to be in the openalex format\n",
    "    df = df[df[\"abstract\"] != \"MISSING_ABSTRACT\"].reset_index(drop=True)\n",
    "    df = df[app.config[\"OPENALEX_PAPER_FIELDS\"]]\n",
    "    df[\"concat\"] = df[\"title\"] + separation_token + df[\"abstract\"]\n",
    "    df[\"embedding\"] = df[\"concat\"].progress_apply(model.embed)\n",
    "    return df \n",
    "\n",
    "def read_data(path:str) -> pd.DataFrame: \n",
    "    \"\"\" Reads pickled dataframes from a path \"\"\"\n",
    "    pickle_files = glob.glob(os.path.join(path,\"*.pkl\"))\n",
    "    print(pickle_files)\n",
    "    df = pd.DataFrame()\n",
    "    for pickle in tqdm(pickle_files):\n",
    "        new = pd.read_pickle(pickle)\n",
    "        print(f\"file {pickle} has {len(new)} new elements\")\n",
    "        df = pd.concat([df, new])\n",
    "    return df"
   ]
  },
  {
   "cell_type": "code",
   "execution_count": 5,
   "metadata": {},
   "outputs": [
    {
     "name": "stdout",
     "output_type": "stream",
     "text": [
      "['/home/marco/Desktop/Coding/Oshima/refBro-main/data/publishers/nature_filtered/data_slice_8.pkl', '/home/marco/Desktop/Coding/Oshima/refBro-main/data/publishers/nature_filtered/data_slice_18.pkl', '/home/marco/Desktop/Coding/Oshima/refBro-main/data/publishers/nature_filtered/data_slice_11.pkl', '/home/marco/Desktop/Coding/Oshima/refBro-main/data/publishers/nature_filtered/data_slice_5.pkl', '/home/marco/Desktop/Coding/Oshima/refBro-main/data/publishers/nature_filtered/data_slice_9.pkl', '/home/marco/Desktop/Coding/Oshima/refBro-main/data/publishers/nature_filtered/data_slice_14.pkl', '/home/marco/Desktop/Coding/Oshima/refBro-main/data/publishers/nature_filtered/data_slice_15.pkl', '/home/marco/Desktop/Coding/Oshima/refBro-main/data/publishers/nature_filtered/data_slice_3.pkl', '/home/marco/Desktop/Coding/Oshima/refBro-main/data/publishers/nature_filtered/data_slice_10.pkl', '/home/marco/Desktop/Coding/Oshima/refBro-main/data/publishers/nature_filtered/data_slice_13.pkl', '/home/marco/Desktop/Coding/Oshima/refBro-main/data/publishers/nature_filtered/data_slice_16.pkl', '/home/marco/Desktop/Coding/Oshima/refBro-main/data/publishers/nature_filtered/data_slice_7.pkl', '/home/marco/Desktop/Coding/Oshima/refBro-main/data/publishers/nature_filtered/data_slice_17.pkl', '/home/marco/Desktop/Coding/Oshima/refBro-main/data/publishers/nature_filtered/data_slice_1.pkl', '/home/marco/Desktop/Coding/Oshima/refBro-main/data/publishers/nature_filtered/data_slice_0.pkl', '/home/marco/Desktop/Coding/Oshima/refBro-main/data/publishers/nature_filtered/data_slice_4.pkl', '/home/marco/Desktop/Coding/Oshima/refBro-main/data/publishers/nature_filtered/data_slice_6.pkl', '/home/marco/Desktop/Coding/Oshima/refBro-main/data/publishers/nature_filtered/data_slice_2.pkl', '/home/marco/Desktop/Coding/Oshima/refBro-main/data/publishers/nature_filtered/data_slice_12.pkl']\n"
     ]
    },
    {
     "name": "stderr",
     "output_type": "stream",
     "text": [
      "  5%|▌         | 1/19 [00:01<00:22,  1.24s/it]"
     ]
    },
    {
     "name": "stdout",
     "output_type": "stream",
     "text": [
      "file /home/marco/Desktop/Coding/Oshima/refBro-main/data/publishers/nature_filtered/data_slice_8.pkl has 8490 new elements\n",
      "file /home/marco/Desktop/Coding/Oshima/refBro-main/data/publishers/nature_filtered/data_slice_18.pkl has 150 new elements\n"
     ]
    },
    {
     "name": "stderr",
     "output_type": "stream",
     "text": [
      " 16%|█▌        | 3/19 [00:04<00:23,  1.50s/it]"
     ]
    },
    {
     "name": "stdout",
     "output_type": "stream",
     "text": [
      "file /home/marco/Desktop/Coding/Oshima/refBro-main/data/publishers/nature_filtered/data_slice_11.pkl has 19670 new elements\n"
     ]
    },
    {
     "name": "stderr",
     "output_type": "stream",
     "text": [
      " 21%|██        | 4/19 [00:05<00:19,  1.28s/it]"
     ]
    },
    {
     "name": "stdout",
     "output_type": "stream",
     "text": [
      "file /home/marco/Desktop/Coding/Oshima/refBro-main/data/publishers/nature_filtered/data_slice_5.pkl has 4720 new elements\n"
     ]
    },
    {
     "name": "stderr",
     "output_type": "stream",
     "text": [
      " 26%|██▋       | 5/19 [00:06<00:19,  1.42s/it]"
     ]
    },
    {
     "name": "stdout",
     "output_type": "stream",
     "text": [
      "file /home/marco/Desktop/Coding/Oshima/refBro-main/data/publishers/nature_filtered/data_slice_9.pkl has 12080 new elements\n"
     ]
    },
    {
     "name": "stderr",
     "output_type": "stream",
     "text": [
      " 32%|███▏      | 6/19 [00:13<00:37,  2.91s/it]"
     ]
    },
    {
     "name": "stdout",
     "output_type": "stream",
     "text": [
      "file /home/marco/Desktop/Coding/Oshima/refBro-main/data/publishers/nature_filtered/data_slice_14.pkl has 25650 new elements\n"
     ]
    },
    {
     "name": "stderr",
     "output_type": "stream",
     "text": [
      " 37%|███▋      | 7/19 [00:17<00:41,  3.43s/it]"
     ]
    },
    {
     "name": "stdout",
     "output_type": "stream",
     "text": [
      "file /home/marco/Desktop/Coding/Oshima/refBro-main/data/publishers/nature_filtered/data_slice_15.pkl has 31240 new elements\n"
     ]
    },
    {
     "name": "stderr",
     "output_type": "stream",
     "text": [
      " 42%|████▏     | 8/19 [00:20<00:36,  3.35s/it]"
     ]
    },
    {
     "name": "stdout",
     "output_type": "stream",
     "text": [
      "file /home/marco/Desktop/Coding/Oshima/refBro-main/data/publishers/nature_filtered/data_slice_3.pkl has 3660 new elements\n"
     ]
    },
    {
     "name": "stderr",
     "output_type": "stream",
     "text": [
      " 47%|████▋     | 9/19 [00:22<00:29,  2.91s/it]"
     ]
    },
    {
     "name": "stdout",
     "output_type": "stream",
     "text": [
      "file /home/marco/Desktop/Coding/Oshima/refBro-main/data/publishers/nature_filtered/data_slice_10.pkl has 15680 new elements\n"
     ]
    },
    {
     "name": "stderr",
     "output_type": "stream",
     "text": [
      " 53%|█████▎    | 10/19 [00:25<00:26,  2.89s/it]"
     ]
    },
    {
     "name": "stdout",
     "output_type": "stream",
     "text": [
      "file /home/marco/Desktop/Coding/Oshima/refBro-main/data/publishers/nature_filtered/data_slice_13.pkl has 24080 new elements\n",
      "file /home/marco/Desktop/Coding/Oshima/refBro-main/data/publishers/nature_filtered/data_slice_16.pkl has 15500 new elements\n"
     ]
    },
    {
     "name": "stderr",
     "output_type": "stream",
     "text": [
      " 63%|██████▎   | 12/19 [00:35<00:25,  3.61s/it]"
     ]
    },
    {
     "name": "stdout",
     "output_type": "stream",
     "text": [
      "file /home/marco/Desktop/Coding/Oshima/refBro-main/data/publishers/nature_filtered/data_slice_7.pkl has 6700 new elements\n",
      "file /home/marco/Desktop/Coding/Oshima/refBro-main/data/publishers/nature_filtered/data_slice_17.pkl has 120 new elements\n"
     ]
    },
    {
     "name": "stderr",
     "output_type": "stream",
     "text": [
      " 74%|███████▎  | 14/19 [00:37<00:12,  2.47s/it]"
     ]
    },
    {
     "name": "stdout",
     "output_type": "stream",
     "text": [
      "file /home/marco/Desktop/Coding/Oshima/refBro-main/data/publishers/nature_filtered/data_slice_1.pkl has 2710 new elements\n"
     ]
    },
    {
     "name": "stderr",
     "output_type": "stream",
     "text": [
      " 79%|███████▉  | 15/19 [00:40<00:10,  2.73s/it]"
     ]
    },
    {
     "name": "stdout",
     "output_type": "stream",
     "text": [
      "file /home/marco/Desktop/Coding/Oshima/refBro-main/data/publishers/nature_filtered/data_slice_0.pkl has 2470 new elements\n"
     ]
    },
    {
     "name": "stderr",
     "output_type": "stream",
     "text": [
      " 84%|████████▍ | 16/19 [00:42<00:06,  2.31s/it]"
     ]
    },
    {
     "name": "stdout",
     "output_type": "stream",
     "text": [
      "file /home/marco/Desktop/Coding/Oshima/refBro-main/data/publishers/nature_filtered/data_slice_4.pkl has 4220 new elements\n"
     ]
    },
    {
     "name": "stderr",
     "output_type": "stream",
     "text": [
      " 89%|████████▉ | 17/19 [00:44<00:04,  2.17s/it]"
     ]
    },
    {
     "name": "stdout",
     "output_type": "stream",
     "text": [
      "file /home/marco/Desktop/Coding/Oshima/refBro-main/data/publishers/nature_filtered/data_slice_6.pkl has 4960 new elements\n"
     ]
    },
    {
     "name": "stderr",
     "output_type": "stream",
     "text": [
      " 95%|█████████▍| 18/19 [00:45<00:01,  1.93s/it]"
     ]
    },
    {
     "name": "stdout",
     "output_type": "stream",
     "text": [
      "file /home/marco/Desktop/Coding/Oshima/refBro-main/data/publishers/nature_filtered/data_slice_2.pkl has 3110 new elements\n"
     ]
    },
    {
     "name": "stderr",
     "output_type": "stream",
     "text": [
      "100%|██████████| 19/19 [00:52<00:00,  2.76s/it]"
     ]
    },
    {
     "name": "stdout",
     "output_type": "stream",
     "text": [
      "file /home/marco/Desktop/Coding/Oshima/refBro-main/data/publishers/nature_filtered/data_slice_12.pkl has 24090 new elements\n"
     ]
    },
    {
     "name": "stderr",
     "output_type": "stream",
     "text": [
      "\n"
     ]
    }
   ],
   "source": [
    "df = read_data(\"/home/marco/Desktop/Coding/Oshima/refBro-main/data/publishers/nature_filtered\")"
   ]
  },
  {
   "cell_type": "code",
   "execution_count": 6,
   "metadata": {},
   "outputs": [],
   "source": [
    "model = SentenceTransformer(app.config[\"SCI_EMB_MODEL\"], device=app.config[\"DEVICE\"])"
   ]
  },
  {
   "cell_type": "code",
   "execution_count": 7,
   "metadata": {},
   "outputs": [],
   "source": [
    "separation_token = model.tokenizer.sep_token\n",
    "# data is presumed to be in the openalex format\n",
    "df = df[df[\"abstract\"] != \"MISSING_ABSTRACT\"].reset_index(drop=True)\n",
    "df = df[[\"abstract\",*app.config[\"OPENALEX_PAPER_FIELDS\"].split(\",\")]]\n",
    "df[\"concat\"] = df[\"title\"] + separation_token + df[\"abstract\"]"
   ]
  },
  {
   "cell_type": "code",
   "execution_count": 14,
   "metadata": {},
   "outputs": [
    {
     "name": "stderr",
     "output_type": "stream",
     "text": [
      "/home/marco/Desktop/Coding/Oshima/refBro-main/env/lib/python3.13/site-packages/numpy/_core/fromnumeric.py:57: FutureWarning: 'DataFrame.swapaxes' is deprecated and will be removed in a future version. Please use 'DataFrame.transpose' instead.\n",
      "  return bound(*args, **kwds)\n"
     ]
    },
    {
     "name": "stdout",
     "output_type": "stream",
     "text": [
      "501\n"
     ]
    },
    {
     "name": "stderr",
     "output_type": "stream",
     "text": [
      "100%|██████████| 501/501 [00:08<00:00, 58.60it/s]\n"
     ]
    }
   ],
   "source": [
    "pc = Pinecone(api_key=app.config[\"PINECONE_KEY\"])\n",
    "index = pc.Index(host=app.config[\"PINECONE_HOST\"])\n",
    "\n",
    "for i, chunk in tqdm(enumerate(np.array_split(df, len(df) // eb_batch_size))):\n",
    "    print(len(chunk))\n",
    "    chunk[\"embedding\"] = chunk[\"concat\"].progress_apply(model.encode)\n",
    "    embeddings = [\n",
    "            {\n",
    "                \"id\": row[\"doi\"],\n",
    "                \"values\": row[\"embedding\"].tolist(),\n",
    "            }\n",
    "            for _, row in chunk.iterrows()\n",
    "        ]\n",
    "    index._upsert_batch(embeddings, namespace=\"nature_filtered\", _check_type=True)\n"
   ]
  }
 ],
 "metadata": {
  "kernelspec": {
   "display_name": "env",
   "language": "python",
   "name": "python3"
  },
  "language_info": {
   "codemirror_mode": {
    "name": "ipython",
    "version": 3
   },
   "file_extension": ".py",
   "mimetype": "text/x-python",
   "name": "python",
   "nbconvert_exporter": "python",
   "pygments_lexer": "ipython3",
   "version": "3.13.1"
  }
 },
 "nbformat": 4,
 "nbformat_minor": 2
}
