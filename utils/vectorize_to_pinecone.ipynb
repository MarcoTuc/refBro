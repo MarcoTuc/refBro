{
 "cells": [
  {
   "cell_type": "code",
   "execution_count": 1,
   "metadata": {},
   "outputs": [],
   "source": [
    "import os\n",
    "import sys\n",
    "sys.path.append(\"..\")\n",
    "from itertools import batched\n",
    "import glob\n",
    "from tqdm.notebook import tqdm\n",
    "import numpy as np\n",
    "import pandas as pd\n",
    "from sentence_transformers import SentenceTransformer\n",
    "from pinecone import Pinecone\n",
    "from app import app \n",
    "\n",
    "tqdm.pandas()"
   ]
  },
  {
   "cell_type": "code",
   "execution_count": 7,
   "metadata": {},
   "outputs": [],
   "source": [
    "\n",
    "#### manually configurable parameters\n",
    "eb_batch_size = 500 # how many papers to embed per batch\n",
    "up_batch_size = 800 # how many papers to upload per batch\n",
    "\n",
    "data_path = \"../data/publishers/nature_filtered\"\n",
    "\n",
    "device = app.config[\"DEVICE\"]\n",
    "scientific_embedding_model = app.config[\"SCI_EMB_MODEL\"]\n",
    "pinecone_index_name = \"nature_filtered_200K\"\n"
   ]
  },
  {
   "cell_type": "code",
   "execution_count": 3,
   "metadata": {},
   "outputs": [
    {
     "name": "stdout",
     "output_type": "stream",
     "text": [
      "Reading available data files...\n",
      "Loading scientific embedding model...\n",
      "Using separation token: [SEP]\n",
      "Initializing Pinecone client...\n",
      "Pinecone client initialized successfully\n"
     ]
    }
   ],
   "source": [
    "print(\"Reading available data files...\")\n",
    "pickle_files = glob.glob(os.path.join(data_path,\"*.pkl\"))\n",
    "print(\"Loading scientific embedding model...\")\n",
    "model = SentenceTransformer(scientific_embedding_model, device=device)\n",
    "separation_token = model.tokenizer.sep_token\n",
    "print(f\"Using separation token: {separation_token}\")\n",
    "print(\"Initializing Pinecone client...\")\n",
    "pc = Pinecone(api_key=app.config[\"PINECONE_KEY\"])\n",
    "index = pc.Index(host=app.config[\"PINECONE_HOST\"])\n",
    "print(\"Pinecone client initialized successfully\")\n"
   ]
  },
  {
   "cell_type": "code",
   "execution_count": 4,
   "metadata": {},
   "outputs": [
    {
     "name": "stdout",
     "output_type": "stream",
     "text": [
      "Reading data from ../data/publishers/nature_filtered/data_slice_7.pkl...\n",
      "Loaded 670 papers\n",
      "Concatenating titles and abstracts...\n",
      "Embedding papers\n"
     ]
    },
    {
     "data": {
      "application/vnd.jupyter.widget-view+json": {
       "model_id": "9614d7ee024d489ebb18021722930e46",
       "version_major": 2,
       "version_minor": 0
      },
      "text/plain": [
       "  0%|          | 0/670 [00:00<?, ?it/s]"
      ]
     },
     "metadata": {},
     "output_type": "display_data"
    },
    {
     "name": "stdout",
     "output_type": "stream",
     "text": [
      "Reading data from ../data/publishers/nature_filtered/data_slice_14.pkl...\n",
      "Loaded 2565 papers\n",
      "Concatenating titles and abstracts...\n",
      "Embedding papers\n"
     ]
    },
    {
     "data": {
      "application/vnd.jupyter.widget-view+json": {
       "model_id": "3b4816e2b3dc4dceaf03f4177ef86551",
       "version_major": 2,
       "version_minor": 0
      },
      "text/plain": [
       "  0%|          | 0/2565 [00:00<?, ?it/s]"
      ]
     },
     "metadata": {},
     "output_type": "display_data"
    },
    {
     "name": "stdout",
     "output_type": "stream",
     "text": [
      "Reading data from ../data/publishers/nature_filtered/data_slice_12.pkl...\n",
      "Loaded 2409 papers\n",
      "Concatenating titles and abstracts...\n",
      "Embedding papers\n"
     ]
    },
    {
     "data": {
      "application/vnd.jupyter.widget-view+json": {
       "model_id": "215bcd954ba144c7b0d705adffd6d8e1",
       "version_major": 2,
       "version_minor": 0
      },
      "text/plain": [
       "  0%|          | 0/2409 [00:00<?, ?it/s]"
      ]
     },
     "metadata": {},
     "output_type": "display_data"
    },
    {
     "name": "stdout",
     "output_type": "stream",
     "text": [
      "Reading data from ../data/publishers/nature_filtered/data_slice_2.pkl...\n",
      "Loaded 311 papers\n",
      "Concatenating titles and abstracts...\n",
      "Embedding papers\n"
     ]
    },
    {
     "data": {
      "application/vnd.jupyter.widget-view+json": {
       "model_id": "b2ddf86e05be455cb84a448495f3c17c",
       "version_major": 2,
       "version_minor": 0
      },
      "text/plain": [
       "  0%|          | 0/311 [00:00<?, ?it/s]"
      ]
     },
     "metadata": {},
     "output_type": "display_data"
    },
    {
     "name": "stdout",
     "output_type": "stream",
     "text": [
      "Reading data from ../data/publishers/nature_filtered/data_slice_1.pkl...\n",
      "Loaded 271 papers\n",
      "Concatenating titles and abstracts...\n",
      "Embedding papers\n"
     ]
    },
    {
     "data": {
      "application/vnd.jupyter.widget-view+json": {
       "model_id": "46f6b4a3d9c04629abfd0b6f96984d40",
       "version_major": 2,
       "version_minor": 0
      },
      "text/plain": [
       "  0%|          | 0/271 [00:00<?, ?it/s]"
      ]
     },
     "metadata": {},
     "output_type": "display_data"
    },
    {
     "name": "stdout",
     "output_type": "stream",
     "text": [
      "Reading data from ../data/publishers/nature_filtered/data_slice_0.pkl...\n",
      "Loaded 247 papers\n",
      "Concatenating titles and abstracts...\n",
      "Embedding papers\n"
     ]
    },
    {
     "data": {
      "application/vnd.jupyter.widget-view+json": {
       "model_id": "d9e7d60fd84048bb972cad8ddf9080cf",
       "version_major": 2,
       "version_minor": 0
      },
      "text/plain": [
       "  0%|          | 0/247 [00:00<?, ?it/s]"
      ]
     },
     "metadata": {},
     "output_type": "display_data"
    },
    {
     "name": "stdout",
     "output_type": "stream",
     "text": [
      "Reading data from ../data/publishers/nature_filtered/data_slice_4.pkl...\n",
      "Loaded 422 papers\n",
      "Concatenating titles and abstracts...\n",
      "Embedding papers\n"
     ]
    },
    {
     "data": {
      "application/vnd.jupyter.widget-view+json": {
       "model_id": "686135f5ef404e3395610af3b55c5bb0",
       "version_major": 2,
       "version_minor": 0
      },
      "text/plain": [
       "  0%|          | 0/422 [00:00<?, ?it/s]"
      ]
     },
     "metadata": {},
     "output_type": "display_data"
    },
    {
     "name": "stdout",
     "output_type": "stream",
     "text": [
      "Reading data from ../data/publishers/nature_filtered/data_slice_5.pkl...\n",
      "Loaded 472 papers\n",
      "Concatenating titles and abstracts...\n",
      "Embedding papers\n"
     ]
    },
    {
     "data": {
      "application/vnd.jupyter.widget-view+json": {
       "model_id": "44bc9d39c6054467ac464d4a4da64753",
       "version_major": 2,
       "version_minor": 0
      },
      "text/plain": [
       "  0%|          | 0/472 [00:00<?, ?it/s]"
      ]
     },
     "metadata": {},
     "output_type": "display_data"
    },
    {
     "name": "stdout",
     "output_type": "stream",
     "text": [
      "Reading data from ../data/publishers/nature_filtered/data_slice_13.pkl...\n",
      "Loaded 2408 papers\n",
      "Concatenating titles and abstracts...\n",
      "Embedding papers\n"
     ]
    },
    {
     "data": {
      "application/vnd.jupyter.widget-view+json": {
       "model_id": "19223d32f73347c5ad01ea24ffd71eb3",
       "version_major": 2,
       "version_minor": 0
      },
      "text/plain": [
       "  0%|          | 0/2408 [00:00<?, ?it/s]"
      ]
     },
     "metadata": {},
     "output_type": "display_data"
    },
    {
     "name": "stdout",
     "output_type": "stream",
     "text": [
      "Reading data from ../data/publishers/nature_filtered/data_slice_10.pkl...\n",
      "Loaded 1568 papers\n",
      "Concatenating titles and abstracts...\n",
      "Embedding papers\n"
     ]
    },
    {
     "data": {
      "application/vnd.jupyter.widget-view+json": {
       "model_id": "f8a826496bfd4300865e1697c4d489ab",
       "version_major": 2,
       "version_minor": 0
      },
      "text/plain": [
       "  0%|          | 0/1568 [00:00<?, ?it/s]"
      ]
     },
     "metadata": {},
     "output_type": "display_data"
    },
    {
     "name": "stdout",
     "output_type": "stream",
     "text": [
      "Reading data from ../data/publishers/nature_filtered/data_slice_9.pkl...\n",
      "Loaded 1208 papers\n",
      "Concatenating titles and abstracts...\n",
      "Embedding papers\n"
     ]
    },
    {
     "data": {
      "application/vnd.jupyter.widget-view+json": {
       "model_id": "f7333f9649c04b0688b4d52ea9b62d8e",
       "version_major": 2,
       "version_minor": 0
      },
      "text/plain": [
       "  0%|          | 0/1208 [00:00<?, ?it/s]"
      ]
     },
     "metadata": {},
     "output_type": "display_data"
    },
    {
     "name": "stdout",
     "output_type": "stream",
     "text": [
      "Reading data from ../data/publishers/nature_filtered/data_slice_17.pkl...\n",
      "Loaded 12 papers\n",
      "Concatenating titles and abstracts...\n",
      "Embedding papers\n"
     ]
    },
    {
     "data": {
      "application/vnd.jupyter.widget-view+json": {
       "model_id": "29903c17236242f48427885ef62e3514",
       "version_major": 2,
       "version_minor": 0
      },
      "text/plain": [
       "  0%|          | 0/12 [00:00<?, ?it/s]"
      ]
     },
     "metadata": {},
     "output_type": "display_data"
    },
    {
     "name": "stdout",
     "output_type": "stream",
     "text": [
      "Reading data from ../data/publishers/nature_filtered/data_slice_8.pkl...\n",
      "Loaded 847 papers\n",
      "Concatenating titles and abstracts...\n",
      "Embedding papers\n"
     ]
    },
    {
     "data": {
      "application/vnd.jupyter.widget-view+json": {
       "model_id": "ce0423c52a8a425883547cc9e7a14f05",
       "version_major": 2,
       "version_minor": 0
      },
      "text/plain": [
       "  0%|          | 0/847 [00:00<?, ?it/s]"
      ]
     },
     "metadata": {},
     "output_type": "display_data"
    },
    {
     "name": "stdout",
     "output_type": "stream",
     "text": [
      "Reading data from ../data/publishers/nature_filtered/data_slice_18.pkl...\n",
      "Loaded 15 papers\n",
      "Concatenating titles and abstracts...\n",
      "Embedding papers\n"
     ]
    },
    {
     "data": {
      "application/vnd.jupyter.widget-view+json": {
       "model_id": "7961cd393f3a4cce92cd335ecdf4babc",
       "version_major": 2,
       "version_minor": 0
      },
      "text/plain": [
       "  0%|          | 0/15 [00:00<?, ?it/s]"
      ]
     },
     "metadata": {},
     "output_type": "display_data"
    },
    {
     "name": "stdout",
     "output_type": "stream",
     "text": [
      "Reading data from ../data/publishers/nature_filtered/data_slice_6.pkl...\n",
      "Loaded 495 papers\n",
      "Concatenating titles and abstracts...\n",
      "Embedding papers\n"
     ]
    },
    {
     "data": {
      "application/vnd.jupyter.widget-view+json": {
       "model_id": "c158c6c5fd3247168cc46d64eacc4366",
       "version_major": 2,
       "version_minor": 0
      },
      "text/plain": [
       "  0%|          | 0/495 [00:00<?, ?it/s]"
      ]
     },
     "metadata": {},
     "output_type": "display_data"
    },
    {
     "name": "stdout",
     "output_type": "stream",
     "text": [
      "Reading data from ../data/publishers/nature_filtered/data_slice_15.pkl...\n",
      "Loaded 3124 papers\n",
      "Concatenating titles and abstracts...\n",
      "Embedding papers\n"
     ]
    },
    {
     "data": {
      "application/vnd.jupyter.widget-view+json": {
       "model_id": "8d9f78b1b97e4fefbd206900c97116c8",
       "version_major": 2,
       "version_minor": 0
      },
      "text/plain": [
       "  0%|          | 0/3124 [00:00<?, ?it/s]"
      ]
     },
     "metadata": {},
     "output_type": "display_data"
    },
    {
     "name": "stdout",
     "output_type": "stream",
     "text": [
      "Reading data from ../data/publishers/nature_filtered/data_slice_16.pkl...\n",
      "Loaded 1550 papers\n",
      "Concatenating titles and abstracts...\n",
      "Embedding papers\n"
     ]
    },
    {
     "data": {
      "application/vnd.jupyter.widget-view+json": {
       "model_id": "0af87046bbda44a4856554aec863f8bb",
       "version_major": 2,
       "version_minor": 0
      },
      "text/plain": [
       "  0%|          | 0/1550 [00:00<?, ?it/s]"
      ]
     },
     "metadata": {},
     "output_type": "display_data"
    },
    {
     "name": "stdout",
     "output_type": "stream",
     "text": [
      "Reading data from ../data/publishers/nature_filtered/data_slice_3.pkl...\n",
      "Loaded 366 papers\n",
      "Concatenating titles and abstracts...\n",
      "Embedding papers\n"
     ]
    },
    {
     "data": {
      "application/vnd.jupyter.widget-view+json": {
       "model_id": "dbda2e019bb5484caae2ac7e05f660fc",
       "version_major": 2,
       "version_minor": 0
      },
      "text/plain": [
       "  0%|          | 0/366 [00:00<?, ?it/s]"
      ]
     },
     "metadata": {},
     "output_type": "display_data"
    },
    {
     "name": "stdout",
     "output_type": "stream",
     "text": [
      "Reading data from ../data/publishers/nature_filtered/data_slice_11.pkl...\n",
      "Loaded 1967 papers\n",
      "Concatenating titles and abstracts...\n",
      "Embedding papers\n"
     ]
    },
    {
     "data": {
      "application/vnd.jupyter.widget-view+json": {
       "model_id": "89a0f202df0445bb8d0a81f1b69b0458",
       "version_major": 2,
       "version_minor": 0
      },
      "text/plain": [
       "  0%|          | 0/1967 [00:00<?, ?it/s]"
      ]
     },
     "metadata": {},
     "output_type": "display_data"
    }
   ],
   "source": [
    "totdf = pd.DataFrame()\n",
    "\n",
    "for pickle in pickle_files:\n",
    "    \n",
    "    print(f\"Reading data from {pickle}...\")\n",
    "    df = pd.read_pickle(pickle).drop_duplicates(subset=[\"doi\"])\n",
    "    print(f\"Loaded {len(df)} papers\")\n",
    "    print(\"Concatenating titles and abstracts...\")\n",
    "    df[\"concat\"] = df[\"title\"] + separation_token + df[\"abstract\"]\n",
    "    print(\"Embedding papers\")\n",
    "    df[\"embedding\"] = df[\"concat\"].progress_apply(model.encode)    \n",
    "    # Create batch for upload\n",
    "    totdf = pd.concat([totdf, df])"
   ]
  },
  {
   "cell_type": "code",
   "execution_count": 17,
   "metadata": {},
   "outputs": [],
   "source": [
    "new_embeddings = [\n",
    "        {\n",
    "            \"id\": row[\"doi\"],\n",
    "            \"values\": row[\"embedding\"].tolist(),\n",
    "        }\n",
    "        for _, row in totdf.dropna(subset=[\"doi\"]).iterrows()\n",
    "    ]    "
   ]
  },
  {
   "cell_type": "code",
   "execution_count": 18,
   "metadata": {},
   "outputs": [
    {
     "data": {
      "application/vnd.jupyter.widget-view+json": {
       "model_id": "c089f9f176524cce8f94926f3a10b217",
       "version_major": 2,
       "version_minor": 0
      },
      "text/plain": [
       "  0%|          | 0/27 [00:00<?, ?it/s]"
      ]
     },
     "metadata": {},
     "output_type": "display_data"
    },
    {
     "name": "stdout",
     "output_type": "stream",
     "text": [
      "{'upserted_count': 800}\n",
      "{'upserted_count': 800}\n",
      "{'upserted_count': 800}\n",
      "{'upserted_count': 800}\n",
      "{'upserted_count': 800}\n",
      "{'upserted_count': 800}\n",
      "{'upserted_count': 800}\n",
      "{'upserted_count': 800}\n",
      "{'upserted_count': 800}\n",
      "{'upserted_count': 800}\n",
      "{'upserted_count': 800}\n",
      "{'upserted_count': 800}\n",
      "{'upserted_count': 800}\n",
      "{'upserted_count': 800}\n",
      "{'upserted_count': 800}\n",
      "{'upserted_count': 800}\n",
      "{'upserted_count': 800}\n",
      "{'upserted_count': 800}\n",
      "{'upserted_count': 800}\n",
      "{'upserted_count': 800}\n",
      "{'upserted_count': 800}\n",
      "{'upserted_count': 800}\n",
      "{'upserted_count': 800}\n",
      "{'upserted_count': 800}\n",
      "{'upserted_count': 800}\n",
      "{'upserted_count': 800}\n",
      "{'upserted_count': 125}\n"
     ]
    }
   ],
   "source": [
    "for batch in tqdm(batched(new_embeddings, up_batch_size), total=len(new_embeddings)//up_batch_size+1):\n",
    "    response = index.upsert(\n",
    "            vectors=batch, \n",
    "            namespace=pinecone_index_name, \n",
    "            _check_type=True\n",
    "        )\n",
    "    print(response)"
   ]
  },
  {
   "cell_type": "code",
   "execution_count": null,
   "metadata": {},
   "outputs": [],
   "source": [
    "totdf.to_pickle(\"totdf.pkl\")"
   ]
  }
 ],
 "metadata": {
  "kernelspec": {
   "display_name": "env",
   "language": "python",
   "name": "python3"
  },
  "language_info": {
   "codemirror_mode": {
    "name": "ipython",
    "version": 3
   },
   "file_extension": ".py",
   "mimetype": "text/x-python",
   "name": "python",
   "nbconvert_exporter": "python",
   "pygments_lexer": "ipython3",
   "version": "3.12.7"
  }
 },
 "nbformat": 4,
 "nbformat_minor": 2
}
